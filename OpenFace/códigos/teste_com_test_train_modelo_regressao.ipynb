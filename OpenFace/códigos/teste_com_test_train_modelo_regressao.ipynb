{
 "cells": [
  {
   "cell_type": "code",
   "execution_count": null,
   "metadata": {},
   "outputs": [],
   "source": [
    "import pandas as pd\n",
    "import os\n",
    "\n",
    "# Caminho para os arquivos CSV do treinamento e do teste\n",
    "train_dir = '/home/carlosguttemberg/Downloads/helen/trainset/'\n",
    "test_dir = '/home/carlosguttemberg/Downloads/helen/testset/'\n",
    "\n",
    "# Carregar os arquivos CSV em um DataFrame para treino\n",
    "train_files = [os.path.join(train_dir, f) for f in os.listdir(train_dir) if f.endswith('.csv')]\n",
    "df_train = pd.concat([pd.read_csv(f) for f in train_files], ignore_index=True)\n",
    "\n",
    "# Carregar os arquivos CSV em um DataFrame para teste\n",
    "test_files = [os.path.join(test_dir, f) for f in os.listdir(test_dir) if f.endswith('.csv')]\n",
    "df_test = pd.concat([pd.read_csv(f) for f in test_files], ignore_index=True)\n"
   ]
  },
  {
   "cell_type": "code",
   "execution_count": null,
   "metadata": {},
   "outputs": [],
   "source": [
    "# Supondo que df_train e df_test já estejam carregados com os dados\n",
    "\n",
    "# Gerar dinamicamente os nomes das colunas para as features\n",
    "features = [f'x_{i}' for i in range(68)] + [f'y_{i}' for i in range(68)]\n",
    "\n",
    "# Selecionar as features e a variável alvo para o conjunto de treino\n",
    "X_train = df_train[features]\n",
    "y_train = df_train['p_rx']  # Substitua por sua variável alvo\n",
    "\n",
    "# Selecionar as features e a variável alvo para o conjunto de teste\n",
    "X_test = df_test[features]\n",
    "y_test = df_test['p_rx']  # Substitua por sua variável alvo\n",
    "\n",
    "# Exibir as primeiras linhas para verificação\n",
    "print(X_train.head())\n",
    "print(y_train.head())\n",
    "print(X_test.head())\n",
    "print(y_test.head())"
   ]
  },
  {
   "cell_type": "code",
   "execution_count": null,
   "metadata": {},
   "outputs": [],
   "source": [
    "from sklearn.linear_model import Ridge\n",
    "from sklearn.metrics import mean_squared_error\n",
    "\n",
    "# Treinar um modelo de regressão (pode ser qualquer modelo que você deseje)\n",
    "model = Ridge()\n",
    "model.fit(X_train, y_train)\n",
    "\n",
    "# Fazer previsões no conjunto de teste\n",
    "y_pred = model.predict(X_test)\n",
    "\n",
    "# Calcular o erro no conjunto de teste\n",
    "mse = mean_squared_error(y_test, y_pred)\n",
    "print(f'Erro quadrático médio no conjunto de teste: {mse:.4f}')\n"
   ]
  },
  {
   "cell_type": "code",
   "execution_count": null,
   "metadata": {},
   "outputs": [],
   "source": [
    "import matplotlib.pyplot as plt\n",
    "\n",
    "# Plotar as previsões contra os valores reais\n",
    "plt.figure(figsize=(10, 6))\n",
    "plt.scatter(y_test, y_pred, alpha=0.7, color='blue')\n",
    "plt.plot([min(y_test), max(y_test)], [min(y_test), max(y_test)], color='red', linestyle='dashed')  # Linha de perfeição\n",
    "plt.title('Previsões vs Valores Reais')\n",
    "plt.xlabel('Valores Reais (Ground Truth)')\n",
    "plt.ylabel('Previsões do Modelo')\n",
    "plt.grid(True)\n",
    "\n",
    "# Explicação do gráfico\n",
    "'''plt.text(0.5, 0.8, 'Este gráfico compara os valores reais (ground truth)\\n'\n",
    "                   'com as previsões feitas pelo modelo treinado.\\n'\n",
    "                   'A linha vermelha representa a previsão perfeita.',\n",
    "         fontsize=12, color='black', transform=plt.gca().transAxes, ha='center')'''\n",
    "\n",
    "plt.show()\n"
   ]
  },
  {
   "cell_type": "code",
   "execution_count": null,
   "metadata": {},
   "outputs": [],
   "source": [
    "# Calcular o erro absoluto para cada previsão\n",
    "error = abs(y_test - y_pred)\n",
    "\n",
    "# Plotar o erro para cada amostra\n",
    "plt.figure(figsize=(10, 6))\n",
    "plt.bar(range(len(error)), error, alpha=0.7, color='orange')\n",
    "plt.title('Erro Absoluto das Previsões')\n",
    "plt.xlabel('Amostra')\n",
    "plt.ylabel('Erro Absoluto')\n",
    "plt.grid(True)\n",
    "\n",
    "# Explicação do gráfico\n",
    "'''plt.text(0.5, 0.8, 'Este gráfico mostra o erro absoluto para cada amostra.\\n'\n",
    "                   'Quanto maior a barra, maior a diferença entre a previsão\\n'\n",
    "                   'e o valor real. Um bom modelo tem barras pequenas.',\n",
    "         fontsize=12, color='black', transform=plt.gca().transAxes, ha='center')'''\n",
    "\n",
    "plt.show()\n"
   ]
  }
 ],
 "metadata": {
  "kernelspec": {
   "display_name": "Python 3",
   "language": "python",
   "name": "python3"
  },
  "language_info": {
   "codemirror_mode": {
    "name": "ipython",
    "version": 3
   },
   "file_extension": ".py",
   "mimetype": "text/x-python",
   "name": "python",
   "nbconvert_exporter": "python",
   "pygments_lexer": "ipython3",
   "version": "3.8.10"
  }
 },
 "nbformat": 4,
 "nbformat_minor": 2
}
